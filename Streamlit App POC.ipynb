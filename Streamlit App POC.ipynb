{
 "cells": [
  {
   "cell_type": "code",
   "execution_count": 0,
   "metadata": {
    "application/vnd.databricks.v1+cell": {
     "cellMetadata": {
      "byteLimit": 2048000,
      "rowLimit": 10000
     },
     "inputWidgets": {},
     "nuid": "af4c89c5-54da-412c-bc5d-4c52aefa7f16",
     "showTitle": false,
     "tableResultSettingsMap": {},
     "title": ""
    }
   },
   "outputs": [
    {
     "output_type": "stream",
     "name": "stdout",
     "output_type": "stream",
     "text": [
      "Collecting streamlit\n  Obtaining dependency information for streamlit from https://files.pythonhosted.org/packages/43/ff/f41cfaf1bb58223fe77ff87213a689f6c9c82f7363f9d7c879d294dbe985/streamlit-1.45.0-py3-none-any.whl.metadata\n  Downloading streamlit-1.45.0-py3-none-any.whl.metadata (8.9 kB)\nCollecting altair<6,>=4.0 (from streamlit)\n  Obtaining dependency information for altair<6,>=4.0 from https://files.pythonhosted.org/packages/aa/f3/0b6ced594e51cc95d8c1fc1640d3623770d01e4969d29c0bd09945fafefa/altair-5.5.0-py3-none-any.whl.metadata\n  Downloading altair-5.5.0-py3-none-any.whl.metadata (11 kB)\nCollecting blinker<2,>=1.5.0 (from streamlit)\n  Obtaining dependency information for blinker<2,>=1.5.0 from https://files.pythonhosted.org/packages/10/cb/f2ad4230dc2eb1a74edf38f1a38b9b52277f75bef262d8908e60d957e13c/blinker-1.9.0-py3-none-any.whl.metadata\n  Downloading blinker-1.9.0-py3-none-any.whl.metadata (1.6 kB)\nRequirement already satisfied: cachetools<6,>=4.0 in /databricks/python3/lib/python3.11/site-packages (from streamlit) (5.3.3)\nRequirement already satisfied: click<9,>=7.0 in /databricks/python3/lib/python3.11/site-packages (from streamlit) (8.0.4)\nRequirement already satisfied: numpy<3,>=1.23 in /databricks/python3/lib/python3.11/site-packages (from streamlit) (1.23.5)\nRequirement already satisfied: packaging<25,>=20 in /databricks/python3/lib/python3.11/site-packages (from streamlit) (23.2)\nRequirement already satisfied: pandas<3,>=1.4.0 in /databricks/python3/lib/python3.11/site-packages (from streamlit) (1.5.3)\nRequirement already satisfied: pillow<12,>=7.1.0 in /databricks/python3/lib/python3.11/site-packages (from streamlit) (9.4.0)\nRequirement already satisfied: protobuf<7,>=3.20 in /databricks/python3/lib/python3.11/site-packages (from streamlit) (4.24.1)\nRequirement already satisfied: pyarrow>=7.0 in /databricks/python3/lib/python3.11/site-packages (from streamlit) (14.0.1)\nRequirement already satisfied: requests<3,>=2.27 in /databricks/python3/lib/python3.11/site-packages (from streamlit) (2.31.0)\nRequirement already satisfied: tenacity<10,>=8.1.0 in /databricks/python3/lib/python3.11/site-packages (from streamlit) (8.2.2)\nCollecting toml<2,>=0.10.1 (from streamlit)\n  Obtaining dependency information for toml<2,>=0.10.1 from https://files.pythonhosted.org/packages/44/6f/7120676b6d73228c96e17f1f794d8ab046fc910d781c8d151120c3f1569e/toml-0.10.2-py2.py3-none-any.whl.metadata\n  Downloading toml-0.10.2-py2.py3-none-any.whl.metadata (7.1 kB)\nRequirement already satisfied: typing-extensions<5,>=4.4.0 in /databricks/python3/lib/python3.11/site-packages (from streamlit) (4.10.0)\nCollecting watchdog<7,>=2.1.5 (from streamlit)\n  Obtaining dependency information for watchdog<7,>=2.1.5 from https://files.pythonhosted.org/packages/b5/e8/dbf020b4d98251a9860752a094d09a65e1b436ad181faf929983f697048f/watchdog-6.0.0-py3-none-manylinux2014_x86_64.whl.metadata\n  Downloading watchdog-6.0.0-py3-none-manylinux2014_x86_64.whl.metadata (44 kB)\n\u001B[?25l     \u001B[90m━━━━━━━━━━━━━━━━━━━━━━━━━━━━━━━━━━━━━━━━\u001B[0m \u001B[32m0.0/44.3 kB\u001B[0m \u001B[31m?\u001B[0m eta \u001B[36m-:--:--\u001B[0m\n\u001B[2K     \u001B[90m━━━━━━━━━━━━━━━━━━━━━━━━━━━━━━━━━━━━━━━━\u001B[0m \u001B[32m44.3/44.3 kB\u001B[0m \u001B[31m4.9 MB/s\u001B[0m eta \u001B[36m0:00:00\u001B[0m\n\u001B[?25hRequirement already satisfied: gitpython!=3.1.19,<4,>=3.0.7 in /databricks/python3/lib/python3.11/site-packages (from streamlit) (3.1.43)\nCollecting pydeck<1,>=0.8.0b4 (from streamlit)\n  Obtaining dependency information for pydeck<1,>=0.8.0b4 from https://files.pythonhosted.org/packages/ab/4c/b888e6cf58bd9db9c93f40d1c6be8283ff49d88919231afe93a6bcf61626/pydeck-0.9.1-py2.py3-none-any.whl.metadata\n  Downloading pydeck-0.9.1-py2.py3-none-any.whl.metadata (4.1 kB)\nRequirement already satisfied: tornado<7,>=6.0.3 in /databricks/python3/lib/python3.11/site-packages (from streamlit) (6.3.2)\nCollecting jinja2 (from altair<6,>=4.0->streamlit)\n  Obtaining dependency information for jinja2 from https://files.pythonhosted.org/packages/62/a1/3d680cbfd5f4b8f15abc1d571870c5fc3e594bb582bc3b64ea099db13e56/jinja2-3.1.6-py3-none-any.whl.metadata\n  Downloading jinja2-3.1.6-py3-none-any.whl.metadata (2.9 kB)\nCollecting jsonschema>=3.0 (from altair<6,>=4.0->streamlit)\n  Obtaining dependency information for jsonschema>=3.0 from https://files.pythonhosted.org/packages/69/4a/4f9dbeb84e8850557c02365a0eee0649abe5eb1d84af92a25731c6c0f922/jsonschema-4.23.0-py3-none-any.whl.metadata\n  Downloading jsonschema-4.23.0-py3-none-any.whl.metadata (7.9 kB)\nCollecting narwhals>=1.14.2 (from altair<6,>=4.0->streamlit)\n  Obtaining dependency information for narwhals>=1.14.2 from https://files.pythonhosted.org/packages/b1/e3/79d95ed89f46b134dd801b54375e362c505303bd739a6737efc14d0de835/narwhals-1.37.1-py3-none-any.whl.metadata\n  Downloading narwhals-1.37.1-py3-none-any.whl.metadata (9.3 kB)\nRequirement already satisfied: gitdb<5,>=4.0.1 in /databricks/python3/lib/python3.11/site-packages (from gitpython!=3.1.19,<4,>=3.0.7->streamlit) (4.0.11)\nRequirement already satisfied: python-dateutil>=2.8.1 in /databricks/python3/lib/python3.11/site-packages (from pandas<3,>=1.4.0->streamlit) (2.8.2)\nRequirement already satisfied: pytz>=2020.1 in /databricks/python3/lib/python3.11/site-packages (from pandas<3,>=1.4.0->streamlit) (2022.7)\nRequirement already satisfied: charset-normalizer<4,>=2 in /databricks/python3/lib/python3.11/site-packages (from requests<3,>=2.27->streamlit) (2.0.4)\nRequirement already satisfied: idna<4,>=2.5 in /databricks/python3/lib/python3.11/site-packages (from requests<3,>=2.27->streamlit) (3.4)\nRequirement already satisfied: urllib3<3,>=1.21.1 in /databricks/python3/lib/python3.11/site-packages (from requests<3,>=2.27->streamlit) (1.26.16)\nRequirement already satisfied: certifi>=2017.4.17 in /databricks/python3/lib/python3.11/site-packages (from requests<3,>=2.27->streamlit) (2023.7.22)\nRequirement already satisfied: smmap<6,>=3.0.1 in /databricks/python3/lib/python3.11/site-packages (from gitdb<5,>=4.0.1->gitpython!=3.1.19,<4,>=3.0.7->streamlit) (5.0.1)\nCollecting MarkupSafe>=2.0 (from jinja2->altair<6,>=4.0->streamlit)\n  Obtaining dependency information for MarkupSafe>=2.0 from https://files.pythonhosted.org/packages/f1/a4/aefb044a2cd8d7334c8a47d3fb2c9f328ac48cb349468cc31c20b539305f/MarkupSafe-3.0.2-cp311-cp311-manylinux_2_17_x86_64.manylinux2014_x86_64.whl.metadata\n  Downloading MarkupSafe-3.0.2-cp311-cp311-manylinux_2_17_x86_64.manylinux2014_x86_64.whl.metadata (4.0 kB)\nCollecting attrs>=22.2.0 (from jsonschema>=3.0->altair<6,>=4.0->streamlit)\n  Obtaining dependency information for attrs>=22.2.0 from https://files.pythonhosted.org/packages/77/06/bb80f5f86020c4551da315d78b3ab75e8228f89f0162f2c3a819e407941a/attrs-25.3.0-py3-none-any.whl.metadata\n  Downloading attrs-25.3.0-py3-none-any.whl.metadata (10 kB)\nCollecting jsonschema-specifications>=2023.03.6 (from jsonschema>=3.0->altair<6,>=4.0->streamlit)\n  Obtaining dependency information for jsonschema-specifications>=2023.03.6 from https://files.pythonhosted.org/packages/01/0e/b27cdbaccf30b890c40ed1da9fd4a3593a5cf94dae54fb34f8a4b74fcd3f/jsonschema_specifications-2025.4.1-py3-none-any.whl.metadata\n  Downloading jsonschema_specifications-2025.4.1-py3-none-any.whl.metadata (2.9 kB)\nCollecting referencing>=0.28.4 (from jsonschema>=3.0->altair<6,>=4.0->streamlit)\n  Obtaining dependency information for referencing>=0.28.4 from https://files.pythonhosted.org/packages/c1/b1/3baf80dc6d2b7bc27a95a67752d0208e410351e3feb4eb78de5f77454d8d/referencing-0.36.2-py3-none-any.whl.metadata\n  Downloading referencing-0.36.2-py3-none-any.whl.metadata (2.8 kB)\nCollecting rpds-py>=0.7.1 (from jsonschema>=3.0->altair<6,>=4.0->streamlit)\n  Obtaining dependency information for rpds-py>=0.7.1 from https://files.pythonhosted.org/packages/e7/0c/91cf17dffa9a38835869797a9f041056091ebba6a53963d3641207e3d467/rpds_py-0.24.0-cp311-cp311-manylinux_2_17_x86_64.manylinux2014_x86_64.whl.metadata\n  Downloading rpds_py-0.24.0-cp311-cp311-manylinux_2_17_x86_64.manylinux2014_x86_64.whl.metadata (4.1 kB)\nRequirement already satisfied: six>=1.5 in /usr/lib/python3/dist-packages (from python-dateutil>=2.8.1->pandas<3,>=1.4.0->streamlit) (1.16.0)\nDownloading streamlit-1.45.0-py3-none-any.whl (9.9 MB)\n\u001B[?25l   \u001B[90m━━━━━━━━━━━━━━━━━━━━━━━━━━━━━━━━━━━━━━━━\u001B[0m \u001B[32m0.0/9.9 MB\u001B[0m \u001B[31m?\u001B[0m eta \u001B[36m-:--:--\u001B[0m\n\u001B[2K   \u001B[91m━━━━━━━━━━━━━━\u001B[0m\u001B[91m╸\u001B[0m\u001B[90m━━━━━━━━━━━━━━━━━━━━━━━━━\u001B[0m \u001B[32m3.6/9.9 MB\u001B[0m \u001B[31m108.3 MB/s\u001B[0m eta \u001B[36m0:00:01\u001B[0m\n\u001B[2K   \u001B[91m━━━━━━━━━━━━━━━━━━━━━━━━━━━━━━━\u001B[0m\u001B[91m╸\u001B[0m\u001B[90m━━━━━━━━\u001B[0m \u001B[32m7.9/9.9 MB\u001B[0m \u001B[31m113.7 MB/s\u001B[0m eta \u001B[36m0:00:01\u001B[0m\n\u001B[2K   \u001B[91m━━━━━━━━━━━━━━━━━━━━━━━━━━━━━━━━━━━━━━━\u001B[0m\u001B[91m╸\u001B[0m \u001B[32m9.9/9.9 MB\u001B[0m \u001B[31m112.7 MB/s\u001B[0m eta \u001B[36m0:00:01\u001B[0m\n\u001B[2K   \u001B[91m━━━━━━━━━━━━━━━━━━━━━━━━━━━━━━━━━━━━━━━\u001B[0m\u001B[91m╸\u001B[0m \u001B[32m9.9/9.9 MB\u001B[0m \u001B[31m112.7 MB/s\u001B[0m eta \u001B[36m0:00:01\u001B[0m\n\u001B[2K   \u001B[90m━━━━━━━━━━━━━━━━━━━━━━━━━━━━━━━━━━━━━━━━\u001B[0m \u001B[32m9.9/9.9 MB\u001B[0m \u001B[31m62.0 MB/s\u001B[0m eta \u001B[36m0:00:00\u001B[0m\n\u001B[?25hDownloading altair-5.5.0-py3-none-any.whl (731 kB)\n\u001B[?25l   \u001B[90m━━━━━━━━━━━━━━━━━━━━━━━━━━━━━━━━━━━━━━━━\u001B[0m \u001B[32m0.0/731.2 kB\u001B[0m \u001B[31m?\u001B[0m eta \u001B[36m-:--:--\u001B[0m\n\u001B[2K   \u001B[90m━━━━━━━━━━━━━━━━━━━━━━━━━━━━━━━━━━━━━━━━\u001B[0m \u001B[32m731.2/731.2 kB\u001B[0m \u001B[31m44.3 MB/s\u001B[0m eta \u001B[36m0:00:00\u001B[0m\n\u001B[?25hDownloading blinker-1.9.0-py3-none-any.whl (8.5 kB)\nDownloading pydeck-0.9.1-py2.py3-none-any.whl (6.9 MB)\n\u001B[?25l   \u001B[90m━━━━━━━━━━━━━━━━━━━━━━━━━━━━━━━━━━━━━━━━\u001B[0m \u001B[32m0.0/6.9 MB\u001B[0m \u001B[31m?\u001B[0m eta \u001B[36m-:--:--\u001B[0m\n\u001B[2K   \u001B[91m━━━━━━━━━━━━━━━━━━━━━━\u001B[0m\u001B[91m╸\u001B[0m\u001B[90m━━━━━━━━━━━━━━━━━\u001B[0m \u001B[32m3.9/6.9 MB\u001B[0m \u001B[31m117.7 MB/s\u001B[0m eta \u001B[36m0:00:01\u001B[0m\n\u001B[2K   \u001B[91m━━━━━━━━━━━━━━━━━━━━━━━━━━━━━━━━━━━━━━━\u001B[0m\u001B[91m╸\u001B[0m \u001B[32m6.9/6.9 MB\u001B[0m \u001B[31m116.3 MB/s\u001B[0m eta \u001B[36m0:00:01\u001B[0m\n\u001B[2K   \u001B[90m━━━━━━━━━━━━━━━━━━━━━━━━━━━━━━━━━━━━━━━━\u001B[0m \u001B[32m6.9/6.9 MB\u001B[0m \u001B[31m67.6 MB/s\u001B[0m eta \u001B[36m0:00:00\u001B[0m\n\u001B[?25hDownloading toml-0.10.2-py2.py3-none-any.whl (16 kB)\nDownloading watchdog-6.0.0-py3-none-manylinux2014_x86_64.whl (79 kB)\n\u001B[?25l   \u001B[90m━━━━━━━━━━━━━━━━━━━━━━━━━━━━━━━━━━━━━━━━\u001B[0m \u001B[32m0.0/79.1 kB\u001B[0m \u001B[31m?\u001B[0m eta \u001B[36m-:--:--\u001B[0m\n\u001B[2K   \u001B[90m━━━━━━━━━━━━━━━━━━━━━━━━━━━━━━━━━━━━━━━━\u001B[0m \u001B[32m79.1/79.1 kB\u001B[0m \u001B[31m7.1 MB/s\u001B[0m eta \u001B[36m0:00:00\u001B[0m\n\u001B[?25hDownloading jinja2-3.1.6-py3-none-any.whl (134 kB)\n\u001B[?25l   \u001B[90m━━━━━━━━━━━━━━━━━━━━━━━━━━━━━━━━━━━━━━━━\u001B[0m \u001B[32m0.0/134.9 kB\u001B[0m \u001B[31m?\u001B[0m eta \u001B[36m-:--:--\u001B[0m\n\u001B[2K   \u001B[90m━━━━━━━━━━━━━━━━━━━━━━━━━━━━━━━━━━━━━━━━\u001B[0m \u001B[32m134.9/134.9 kB\u001B[0m \u001B[31m14.7 MB/s\u001B[0m eta \u001B[36m0:00:00\u001B[0m\n\u001B[?25hDownloading jsonschema-4.23.0-py3-none-any.whl (88 kB)\n\u001B[?25l   \u001B[90m━━━━━━━━━━━━━━━━━━━━━━━━━━━━━━━━━━━━━━━━\u001B[0m \u001B[32m0.0/88.5 kB\u001B[0m \u001B[31m?\u001B[0m eta \u001B[36m-:--:--\u001B[0m\n\u001B[2K   \u001B[90m━━━━━━━━━━━━━━━━━━━━━━━━━━━━━━━━━━━━━━━━\u001B[0m \u001B[32m88.5/88.5 kB\u001B[0m \u001B[31m9.8 MB/s\u001B[0m eta \u001B[36m0:00:00\u001B[0m\n\u001B[?25hDownloading narwhals-1.37.1-py3-none-any.whl (332 kB)\n\u001B[?25l   \u001B[90m━━━━━━━━━━━━━━━━━━━━━━━━━━━━━━━━━━━━━━━━\u001B[0m \u001B[32m0.0/332.4 kB\u001B[0m \u001B[31m?\u001B[0m eta \u001B[36m-:--:--\u001B[0m\n\u001B[2K   \u001B[90m━━━━━━━━━━━━━━━━━━━━━━━━━━━━━━━━━━━━━━━━\u001B[0m \u001B[32m332.4/332.4 kB\u001B[0m \u001B[31m17.3 MB/s\u001B[0m eta \u001B[36m0:00:00\u001B[0m\n\u001B[?25hDownloading attrs-25.3.0-py3-none-any.whl (63 kB)\n\u001B[?25l   \u001B[90m━━━━━━━━━━━━━━━━━━━━━━━━━━━━━━━━━━━━━━━━\u001B[0m \u001B[32m0.0/63.8 kB\u001B[0m \u001B[31m?\u001B[0m eta \u001B[36m-:--:--\u001B[0m\n\u001B[2K   \u001B[90m━━━━━━━━━━━━━━━━━━━━━━━━━━━━━━━━━━━━━━━━\u001B[0m \u001B[32m63.8/63.8 kB\u001B[0m \u001B[31m7.0 MB/s\u001B[0m eta \u001B[36m0:00:00\u001B[0m\n\u001B[?25hDownloading jsonschema_specifications-2025.4.1-py3-none-any.whl (18 kB)\nDownloading MarkupSafe-3.0.2-cp311-cp311-manylinux_2_17_x86_64.manylinux2014_x86_64.whl (23 kB)\nDownloading referencing-0.36.2-py3-none-any.whl (26 kB)\nDownloading rpds_py-0.24.0-cp311-cp311-manylinux_2_17_x86_64.manylinux2014_x86_64.whl (389 kB)\n\u001B[?25l   \u001B[90m━━━━━━━━━━━━━━━━━━━━━━━━━━━━━━━━━━━━━━━━\u001B[0m \u001B[32m0.0/389.4 kB\u001B[0m \u001B[31m?\u001B[0m eta \u001B[36m-:--:--\u001B[0m\n\u001B[2K   \u001B[90m━━━━━━━━━━━━━━━━━━━━━━━━━━━━━━━━━━━━━━━━\u001B[0m \u001B[32m389.4/389.4 kB\u001B[0m \u001B[31m31.1 MB/s\u001B[0m eta \u001B[36m0:00:00\u001B[0m\n\u001B[?25hInstalling collected packages: watchdog, toml, rpds-py, narwhals, MarkupSafe, blinker, attrs, referencing, jinja2, pydeck, jsonschema-specifications, jsonschema, altair, streamlit\n  Attempting uninstall: blinker\n    Found existing installation: blinker 1.4\n    Not uninstalling blinker at /usr/lib/python3/dist-packages, outside environment /local_disk0/.ephemeral_nfs/envs/pythonEnv-f5c7036b-cd8f-4df5-b949-a5caae096662\n    Can't uninstall 'blinker'. No files were found to uninstall.\nSuccessfully installed MarkupSafe-3.0.2 altair-5.5.0 attrs-25.3.0 blinker-1.9.0 jinja2-3.1.6 jsonschema-4.23.0 jsonschema-specifications-2025.4.1 narwhals-1.37.1 pydeck-0.9.1 referencing-0.36.2 rpds-py-0.24.0 streamlit-1.45.0 toml-0.10.2 watchdog-6.0.0\n\u001B[43mNote: you may need to restart the kernel using %restart_python or dbutils.library.restartPython() to use updated packages.\u001B[0m\n"
     ]
    }
   ],
   "source": [
    "%pip install streamlit"
   ]
  },
  {
   "cell_type": "code",
   "execution_count": 0,
   "metadata": {
    "application/vnd.databricks.v1+cell": {
     "cellMetadata": {
      "byteLimit": 2048000,
      "rowLimit": 10000
     },
     "inputWidgets": {},
     "nuid": "8c9052da-3805-46c5-8041-0968407304ed",
     "showTitle": false,
     "tableResultSettingsMap": {},
     "title": ""
    }
   },
   "outputs": [
    {
     "output_type": "stream",
     "name": "stderr",
     "output_type": "stream",
     "text": [
      "2025-04-29 18:40:00.088 WARNING streamlit.runtime.scriptrunner_utils.script_run_context: Thread 'MainThread': missing ScriptRunContext! This warning can be ignored when running in bare mode.\n2025-04-29 18:40:00.260 \n  \u001B[33m\u001B[1mWarning:\u001B[0m to view this Streamlit app on a browser, run it with the following\n  command:\n\n    streamlit run /databricks/python_shell/scripts/db_ipykernel_launcher.py [ARGUMENTS]\n2025-04-29 18:40:00.261 Thread 'MainThread': missing ScriptRunContext! This warning can be ignored when running in bare mode.\n2025-04-29 18:40:00.262 Thread 'MainThread': missing ScriptRunContext! This warning can be ignored when running in bare mode.\n2025-04-29 18:40:00.263 Thread 'MainThread': missing ScriptRunContext! This warning can be ignored when running in bare mode.\n2025-04-29 18:40:00.264 Thread 'MainThread': missing ScriptRunContext! This warning can be ignored when running in bare mode.\n2025-04-29 18:40:00.267 Thread 'MainThread': missing ScriptRunContext! This warning can be ignored when running in bare mode.\n2025-04-29 18:40:00.268 `label` got an empty value. This is discouraged for accessibility reasons and may be disallowed in the future by raising an exception. Please provide a non-empty label and hide it with label_visibility if needed.\n2025-04-29 18:40:00.269 Thread 'MainThread': missing ScriptRunContext! This warning can be ignored when running in bare mode.\n2025-04-29 18:40:00.271 Thread 'MainThread': missing ScriptRunContext! This warning can be ignored when running in bare mode.\n2025-04-29 18:40:00.272 Session state does not function when running a script without `streamlit run`\n2025-04-29 18:40:00.272 Thread 'MainThread': missing ScriptRunContext! This warning can be ignored when running in bare mode.\n2025-04-29 18:40:00.273 Thread 'MainThread': missing ScriptRunContext! This warning can be ignored when running in bare mode.\n2025-04-29 18:40:00.274 Thread 'MainThread': missing ScriptRunContext! This warning can be ignored when running in bare mode.\n2025-04-29 18:40:00.275 Thread 'MainThread': missing ScriptRunContext! This warning can be ignored when running in bare mode.\n2025-04-29 18:40:00.276 Thread 'MainThread': missing ScriptRunContext! This warning can be ignored when running in bare mode.\n2025-04-29 18:40:00.277 Thread 'MainThread': missing ScriptRunContext! This warning can be ignored when running in bare mode.\n2025-04-29 18:40:00.277 Thread 'MainThread': missing ScriptRunContext! This warning can be ignored when running in bare mode.\n2025-04-29 18:40:00.278 Thread 'MainThread': missing ScriptRunContext! This warning can be ignored when running in bare mode.\n2025-04-29 18:40:00.279 Thread 'MainThread': missing ScriptRunContext! This warning can be ignored when running in bare mode.\n"
     ]
    }
   ],
   "source": [
    "import streamlit as st\n",
    "\n",
    "# Placeholder: Simulated case summaries\n",
    "demo_cases = {\n",
    "    \"Case 1\": \"Postmenopausal bleeding in a 58-year-old woman. A complex endometrial biopsy shows grade 1 endometrioid adenocarcinoma. MRI reveals a 3 cm mass confined to the uterus without myometrial invasion.\",\n",
    "    \"Case 2\": \"A 63-year-old man with a history of smoking. Presents with a persistent cough. CT shows a 4 cm spiculated mass in right upper lobe. Biopsy confirms squamous cell carcinoma.\",\n",
    "    \"Case 3\": \"A 45-year-old woman with triple-negative breast cancer. 2.5 cm left breast mass and metastatic axillary node. No distant metastases.\"\n",
    "}\n",
    "\n",
    "# Placeholder: AI model inference logic\n",
    "def generate_ai_recommendation(case_summary):\n",
    "    # Simulated output — in practice, replace with API call to Azure OpenAI or local model\n",
    "    return {\n",
    "        \"Clinical Impression\": \"Patient presents with low-grade malignancy. Early-stage disease likely based on imaging and pathology.\",\n",
    "        \"Treatment Recommendation\": \"Recommend total hysterectomy with bilateral salpingo-oophorectomy.\"\n",
    "    }\n",
    "\n",
    "# App layout\n",
    "st.title(\"Clinical Review Prototype\")\n",
    "\n",
    "# Sidebar for case selection\n",
    "st.subheader(\"Select a case\")\n",
    "selected_case = st.radio(\"\", list(demo_cases.keys()))\n",
    "st.write(f\"**Case Summary:**\\n\\n{demo_cases[selected_case]}\")\n",
    "\n",
    "# Generate recommendation\n",
    "if st.button(\"Generate Recommendation\"):\n",
    "    ai_output = generate_ai_recommendation(demo_cases[selected_case])\n",
    "    \n",
    "    st.subheader(\"AI-Generated Recommendation\")\n",
    "    impression = st.text_area(\"Clinical Impression\", ai_output[\"Clinical Impression\"])\n",
    "    recommendation = st.text_area(\"Treatment Recommendation\", ai_output[\"Treatment Recommendation\"])\n",
    "    \n",
    "    col1, col2, col3 = st.columns(3)\n",
    "    with col1:\n",
    "        st.button(\"Accept\")\n",
    "    with col2:\n",
    "        st.button(\"Edit\")\n",
    "    with col3:\n",
    "        st.button(\"Export\")\n",
    "\n",
    "# (Optional) Store/edit log for fine-tuning\n",
    "# You can expand this by saving inputs and edits to Delta Lake"
   ]
  },
  {
   "cell_type": "code",
   "execution_count": 0,
   "metadata": {
    "application/vnd.databricks.v1+cell": {
     "cellMetadata": {},
     "inputWidgets": {},
     "nuid": "51de198a-cf75-454e-8751-fdc07804541d",
     "showTitle": false,
     "tableResultSettingsMap": {},
     "title": ""
    }
   },
   "outputs": [],
   "source": []
  },
  {
   "cell_type": "code",
   "execution_count": 0,
   "metadata": {
    "application/vnd.databricks.v1+cell": {
     "cellMetadata": {},
     "inputWidgets": {},
     "nuid": "6ef574da-1d37-4440-8e1b-c82a2d9a8f71",
     "showTitle": false,
     "tableResultSettingsMap": {},
     "title": ""
    }
   },
   "outputs": [],
   "source": []
  },
  {
   "cell_type": "code",
   "execution_count": 0,
   "metadata": {
    "application/vnd.databricks.v1+cell": {
     "cellMetadata": {},
     "inputWidgets": {},
     "nuid": "1e0f1804-6d86-4283-a5a5-02f2a5b654b8",
     "showTitle": false,
     "tableResultSettingsMap": {},
     "title": ""
    }
   },
   "outputs": [],
   "source": []
  }
 ],
 "metadata": {
  "application/vnd.databricks.v1+notebook": {
   "computePreferences": null,
   "dashboards": [],
   "environmentMetadata": {
    "base_environment": "",
    "environment_version": "2"
   },
   "inputWidgetPreferences": null,
   "language": "python",
   "notebookMetadata": {
    "pythonIndentUnit": 4
   },
   "notebookName": "Streamlit App POC",
   "widgets": {}
  },
  "language_info": {
   "name": "python"
  }
 },
 "nbformat": 4,
 "nbformat_minor": 0
}